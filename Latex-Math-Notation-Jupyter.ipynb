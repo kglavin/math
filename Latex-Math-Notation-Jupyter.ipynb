{
 "cells": [
  {
   "cell_type": "markdown",
   "metadata": {},
   "source": [
    "# Mathemathical Notations in latex cheatsheet"
   ]
  },
  {
   "cell_type": "code",
   "execution_count": 4,
   "metadata": {},
   "outputs": [
    {
     "data": {
      "text/html": [
       "<style>\n",
       "  table {margin-left: 0 !important;}\n",
       "</style>"
      ],
      "text/plain": [
       "<IPython.core.display.HTML object>"
      ]
     },
     "metadata": {},
     "output_type": "display_data"
    }
   ],
   "source": [
    "%%html\n",
    "<style>\n",
    "  table {margin-left: 0 !important;}\n",
    "</style>"
   ]
  },
  {
   "cell_type": "markdown",
   "metadata": {},
   "source": [
    "\n",
    "\n",
    "To use latex to enter mathemathical equations within Jupyter markdown you start with \n",
    "\n",
    "```$a=5$```\n",
    "\n",
    "$a=5$\n",
    "\n",
    "or as a more complex example:\n",
    "\n",
    "```$e^{i\\pi}+1=0$``` results in $e^{i\\pi}+1=0$\n",
    "\n",
    "## Fractions\n",
    "|   Raw                                              | will render in jupyter markdown cell as            |                                                  \n",
    "|:---------------------------------------------------|:---------------------------------------------------|\n",
    "| ```$\\frac{1}{2}$```                                |$\\frac{1}{2}$                                      |\n",
    "| ```$\\frac{a+1}{b+2}+c$```                    |$\\frac{a+1}{b+2}+c$                         |\n",
    "| ```$\\frac{1}{\\frac{1}{1+x}}$```                    |$\\frac{1}{\\frac{1}{1+x}}$                         |\n",
    "\n",
    "## Letters\n",
    "|   Raw                                              | will render in jupyter markdown cell as            |                                                  \n",
    "|:---------------------------------------------------|:---------------------------------------------------|\n",
    "| ```$\\alpha$```                    |$\\alpha$                         |\n",
    "| ```$\\beta$```                    |$\\beta$                         |\n",
    "| ```$\\gamma$```                    |$\\gamma$                         |\n",
    "| ```$\\delta$```                    |$\\delta$                         |\n",
    "| ```$\\epsilon$```                    |$\\epsilon$                         |\n",
    "| ```$\\zeta$```                    |$\\zeta$                         |\n",
    "| ```$\\eta$```                    |$\\eta$                         |\n",
    "| ```$\\theta$```                    |$\\theta$                         |\n",
    "| ```$\\iota$```                    |$\\iota$                         |\n",
    "| ```$\\kappa$```                    |$\\kappa$                         |\n",
    "| ```$\\lambda```                    |$\\lambda$                         |\n",
    "| ```$\\mu$```                    |$\\mu$                         |\n",
    "| ```$\\nu$```                    |$\\nu$                         |\n",
    "| ```$\\xi$```                    |$\\xi$                         |\n",
    "| ```$o$```                    |$o$                         |\n",
    "| ```$\\pi$```                    |$\\pi$                         |\n",
    "| ```$\\rho$```                    |$\\rho$                         |\n",
    "| ```$\\sigma$```                    |$\\sigma$                         |\n",
    "| ```$\\tau$```                    |$\\tau$                         |\n",
    "| ```$\\upsilon$```                    |$\\upsilon$                         |\n",
    "| ```$\\phi$```                    |$\\phi$                         |\n",
    "| ```$\\chi$```                    |$\\chi$                         |\n",
    "| ```$\\psi$```                    |$\\psi$                         |\n",
    "| ```$\\omega$```                    |$\\omega$                         |\n",
    "\n",
    "\n",
    "## Super and Sub Scripts\n",
    "|   Raw                                              | will render in jupyter markdown cell as            |                                                  \n",
    "|:---------------------------------------------------|:---------------------------------------------------|\n",
    "| ```$x_2$```                    |$x_2$                         |\n",
    "| ```$x_{20}$```                    |$x_{20}$                         |\n",
    "| ```$x^y_2$```                    |$x^y_2$                         |\n",
    "| ```$x^{y_2}$```                    |$x^{y_2}$                         |\n",
    "| ```${x_i}_2$```                    |${x_i}_2$                         |\n",
    "| ```$x^i$```                    |$x^i$                         |\n",
    "| ```$x^i_2$```                    |$x^i_2$                         |\n",
    "| ```${x^i}_2$```                    |${x^i}_2$                         |\n",
    "| ```$x^{i_2}$```                    |$x^{i_2}$                         |\n",
    "| ```$x^{i^2}$```                    |$x^{i^2}$                    |\n",
    "| ```${x^i}^2$```                    |${x^i}^2$                         |\n",
    "| ```$$```                    |$$                         |\n",
    "| ```$$```                    |$$                         |\n",
    "| ```$$```                    |$$                         |\n",
    "| ```$$```                    |$$                         |\n",
    "| ```$$```                    |$$                         |\n",
    "| ```$$```                    |$$                         |\n",
    "| ```$$```                    |$$                         |\n",
    "| ```$$```                    |$$                         |\n",
    "| ```$$```                    |$$                         |\n",
    "| ```$$```                    |$$                         |\n",
    "| ```$$```                    |$$                         |\n",
    "| ```$$```                    |$$                         |\n"
   ]
  },
  {
   "cell_type": "markdown",
   "metadata": {},
   "source": [
    "## operators\n",
    "|   Raw                                              | will render in jupyter markdown cell as            |                                                  \n",
    "|:---------------------------------------------------|:---------------------------------------------------|\n",
    "| ```$\\times$```                    |$\\times$                         |\n",
    "| ```$\\cdot$```                    |$\\cdot$                         |\n",
    "| ```$\\div$```                    |$\\div$                         |\n",
    "| ```$\\pm$```                    |$\\pm$                         |\n",
    "| ```$\\odot$```                    |$\\odot$                         |\n",
    "| ```$\\ominus$```                    |$\\ominus$                         |\n",
    "| ```$\\oplus$```                    |$\\oplus$                         |\n",
    "| ```$\\oslash$```                    |$\\oslash$                         |\n",
    "| ```$\\otimes$```                    |$\\otimes$                         |\n",
    "\n",
    "\n",
    "\n",
    "\n",
    "\n"
   ]
  },
  {
   "cell_type": "markdown",
   "metadata": {},
   "source": [
    "## Relations\n",
    "\n",
    "|   Raw                                              | will render in jupyter markdown cell as            |                                                  \n",
    "|:---------------------------------------------------|:---------------------------------------------------|\n",
    "| ```$\\neq$```                    |$\\neq$                         |\n",
    "| ```$\\approx$```                    |$\\approx$                         |\n",
    "| ```$\\leq$```                    |$\\leq$                         |\n",
    "| ```$\\geq$```                    |$\\geq$                         |\n",
    "| ```$\\ll$```                    |$\\ll$                         |\n",
    "| ```$\\gg```                    |$\\gg$                         |\n",
    "\n",
    "## Sets\n",
    "|   Raw                                              | will render in jupyter markdown cell as            |                                                  \n",
    "|:---------------------------------------------------|:---------------------------------------------------|\n",
    "| ```$\\supset$```                    |$\\supset$                         |\n",
    "| ```$\\supseteq$```                    |$\\supseteq$                         |\n",
    "| ```$\\subset$```                    |$\\subset$                         |\n",
    "| ```$\\subseteq$```                    |$\\subseteq$                         |\n",
    "| ```$\\in$```                    |$\\in$                         |\n",
    "| ```$\\emptyset$```                    |$\\emptyset$                         |\n",
    "| ```$\\mathbb{R}$```                    |$\\mathbb{R}$                         |\n",
    "| ```$\\cup$```                    |$\\cup$                     |\n",
    "| ```$\\cap$```                    |$\\cap$                         |"
   ]
  },
  {
   "cell_type": "markdown",
   "metadata": {},
   "source": [
    "|   Raw                                              | will render in jupyter markdown cell as            |                                                  \n",
    "|:---------------------------------------------------|:---------------------------------------------------|\n",
    "| ```$\\infty$```                    |$\\infty$                         |\n",
    "| ```$\\partial$```                    |$\\partial$                         |\n",
    "| ```$\\hat{\\omega}$```                    |$\\hat{\\omega}$                         |\n",
    "| ```$\\sqrt[3]{8}$```                    |$\\sqrt[3]{8}$                         |\n",
    "| ```$$```                    |$$                         |\n",
    "| ```$$```                    |$$                         |\n",
    "| ```$$```                    |$$                         |\n",
    "| ```$$```                    |$$                         |\n",
    "| ```$$```                    |$$                         |\n",
    "| ```$$```                    |$$                         |\n",
    "| ```$$```                    |$$                         |\n",
    "| ```$$```                    |$$                         |\n"
   ]
  },
  {
   "cell_type": "code",
   "execution_count": null,
   "metadata": {},
   "outputs": [],
   "source": []
  }
 ],
 "metadata": {
  "kernelspec": {
   "display_name": "Python 3",
   "language": "python",
   "name": "python3"
  },
  "language_info": {
   "codemirror_mode": {
    "name": "ipython",
    "version": 3
   },
   "file_extension": ".py",
   "mimetype": "text/x-python",
   "name": "python",
   "nbconvert_exporter": "python",
   "pygments_lexer": "ipython3",
   "version": "3.6.5"
  }
 },
 "nbformat": 4,
 "nbformat_minor": 2
}
